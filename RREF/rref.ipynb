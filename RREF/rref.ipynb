{
 "cells": [
  {
   "cell_type": "code",
   "execution_count": 1,
   "metadata": {},
   "outputs": [],
   "source": [
    "import numpy as np"
   ]
  },
  {
   "cell_type": "code",
   "execution_count": 2,
   "metadata": {},
   "outputs": [],
   "source": [
    "def Interchange(M, i ,j):\n",
    "    m = M.shape[1]\n",
    "    for k in range(m):\n",
    "        tmp = M[i, k]\n",
    "        M[i, k] = M[j, k]\n",
    "        M[j, k] = tmp\n",
    "\n",
    "def Scaling(M , i, c):\n",
    "    m = M.shape[1]\n",
    "    for k in range(m):\n",
    "        M[i, k] = M[i, k] * c\n",
    "\n",
    "def Replacement(M , i, j, c):\n",
    "    m = M.shape[1]\n",
    "    for k in range(m):\n",
    "        M[i, k] = M[i, k] + M[j, k] * c"
   ]
  },
  {
   "cell_type": "code",
   "execution_count": 3,
   "metadata": {},
   "outputs": [],
   "source": [
    "def zero_column_forward_phase (M , i, j):\n",
    "    value = M[i, j]\n",
    "    Scaling(M, i, 1/value)\n",
    "    n = M.shape[0]\n",
    "    x = i + 1\n",
    "    while (x < n):\n",
    "        Replacement(M, x, i, -M[x, j])\n",
    "        x = x + 1\n",
    "def zero_column_backward_phase (M , i, j):\n",
    "    value = M[i, j]\n",
    "    n = M.shape[0]\n",
    "    x = i - 1\n",
    "    while (x > -1):\n",
    "        Replacement(M, x, i, -M[x, j])\n",
    "        x = x - 1\n",
    "\n",
    "def check_zero_column(M, i ,j):\n",
    "    x = i + 1\n",
    "    while(x < M.shape[0]):\n",
    "        if (M[x, j] != 0):\n",
    "            return 0\n",
    "        x = x + 1\n",
    "    return 1\n",
    "\n",
    "def find_pivot(M, i, j):\n",
    "    if(check_zero_column(M, i, j) == 1):\n",
    "        return -1\n",
    "    x = i + 1\n",
    "    while(x < M.shape[0]):\n",
    "        if(M[x, j] != 0):\n",
    "            return x\n",
    "        x = x + 1"
   ]
  },
  {
   "cell_type": "code",
   "execution_count": 4,
   "metadata": {},
   "outputs": [],
   "source": [
    "def reduced_row_echelon_form(M):\n",
    "    a = M.astype(float)\n",
    "    x = 0\n",
    "    y = 0\n",
    "    x_pivots = []\n",
    "    y_pivots = []\n",
    "    while(x < a.shape[0] and y < a.shape[1]):\n",
    "        if(a[x, y] != 0):\n",
    "            zero_column_forward_phase(a, x, y)\n",
    "            x_pivots.append(x)\n",
    "            y_pivots.append(y)\n",
    "            x = x + 1\n",
    "            y = y + 1\n",
    "        else:\n",
    "            if(check_zero_column(a, x, y) == 1):\n",
    "                y = y + 1\n",
    "            else:\n",
    "                xx = x\n",
    "                Interchange(a, xx, find_pivot(a, x, y))\n",
    "\n",
    "    x_pivots.reverse()\n",
    "    y_pivots.reverse()\n",
    "    for i in range(len(x_pivots)):\n",
    "        zero_column_backward_phase(a, x_pivots[i], y_pivots[i])\n",
    "\n",
    "    return a"
   ]
  },
  {
   "cell_type": "code",
   "execution_count": 5,
   "metadata": {
    "scrolled": true
   },
   "outputs": [
    {
     "data": {
      "text/plain": [
       "array([[5, 0, 3, 3, 7, 9],\n",
       "       [3, 5, 2, 4, 7, 6],\n",
       "       [8, 8, 1, 6, 7, 7]])"
      ]
     },
     "execution_count": 5,
     "metadata": {},
     "output_type": "execute_result"
    }
   ],
   "source": [
    "np.random.seed(0)\n",
    "a = np.random.randint(10, size=(3, 6))\n",
    "a"
   ]
  },
  {
   "cell_type": "code",
   "execution_count": 6,
   "metadata": {},
   "outputs": [
    {
     "data": {
      "text/plain": [
       "array([[ 1.        ,  0.        ,  0.        ,  0.26213592,  0.13592233,\n",
       "         0.58252427],\n",
       "       [ 0.        ,  1.        ,  0.        ,  0.41747573,  0.47572816,\n",
       "         0.03883495],\n",
       "       [-0.        , -0.        ,  1.        ,  0.5631068 ,  2.10679612,\n",
       "         2.02912621]])"
      ]
     },
     "execution_count": 6,
     "metadata": {},
     "output_type": "execute_result"
    }
   ],
   "source": [
    "b = reduced_row_echelon_form(a)\n",
    "b"
   ]
  },
  {
   "cell_type": "markdown",
   "metadata": {},
   "source": [
    "##### /\\ /V\\ [] [Z [Z (≡ ¯/_ /\\ [Z /\\ _] /\\ !3 []"
   ]
  }
 ],
 "metadata": {
  "kernelspec": {
   "display_name": "Python 3",
   "language": "python",
   "name": "python3"
  },
  "language_info": {
   "codemirror_mode": {
    "name": "ipython",
    "version": 3
   },
   "file_extension": ".py",
   "mimetype": "text/x-python",
   "name": "python",
   "nbconvert_exporter": "python",
   "pygments_lexer": "ipython3",
   "version": "3.7.0"
  }
 },
 "nbformat": 4,
 "nbformat_minor": 2
}
