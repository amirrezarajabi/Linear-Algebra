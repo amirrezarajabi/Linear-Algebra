{
 "cells": [
  {
   "cell_type": "code",
   "execution_count": 1,
   "metadata": {
    "scrolled": true
   },
   "outputs": [],
   "source": [
    "import numpy as np"
   ]
  },
  {
   "cell_type": "code",
   "execution_count": 2,
   "metadata": {},
   "outputs": [],
   "source": [
    "def get_input():\n",
    "    print(\"Coefficient matrix:\")\n",
    "    print(\"Enter number of rows and columns respectively:\")\n",
    "    dimential = input(\"> \")\n",
    "    dimential = dimential.split(\" \")\n",
    "    m = int(dimential[0])\n",
    "    n = int(dimential[1])\n",
    "    array = []\n",
    "    for i in range(m):\n",
    "        print(\"Enter row \" + str(i + 1) + \":\")\n",
    "        s = input(\"> \")\n",
    "        s = s.split(\" \")\n",
    "        b = []\n",
    "        for j in range(n):\n",
    "            b.append(int(s[j]))\n",
    "        array.append(b)\n",
    "    print(\"Enter constant values:\")\n",
    "    s = input(\"> \")\n",
    "    s = s.split(\" \")\n",
    "    for i in range(m):\n",
    "        array[i].append(int(s[i]))\n",
    "    M = np.zeros((m, n + 1))\n",
    "    for i in range(m):\n",
    "        for j in range(n + 1):\n",
    "            M[i, j] = array[i][j]\n",
    "    return M"
   ]
  },
  {
   "cell_type": "code",
   "execution_count": 3,
   "metadata": {},
   "outputs": [],
   "source": [
    "def Interchange(M, i ,j):\n",
    "    m = M.shape[1]\n",
    "    for k in range(m):\n",
    "        tmp = M[i, k]\n",
    "        M[i, k] = M[j, k]\n",
    "        M[j, k] = tmp\n",
    "\n",
    "def Scaling(M , i, c):\n",
    "    m = M.shape[1]\n",
    "    for k in range(m):\n",
    "        M[i, k] = M[i, k] * c\n",
    "\n",
    "def Replacement(M , i, j, c):\n",
    "    m = M.shape[1]\n",
    "    for k in range(m):\n",
    "        M[i, k] = M[i, k] + M[j, k] * c"
   ]
  },
  {
   "cell_type": "code",
   "execution_count": 4,
   "metadata": {},
   "outputs": [],
   "source": [
    "def zero_column_forward_phase (M , i, j):\n",
    "    value = M[i, j]\n",
    "    Scaling(M, i, 1/value)\n",
    "    n = M.shape[0]\n",
    "    x = i + 1\n",
    "    while (x < n):\n",
    "        Replacement(M, x, i, -M[x, j])\n",
    "        x = x + 1\n",
    "def zero_column_backward_phase (M , i, j):\n",
    "    value = M[i, j]\n",
    "    n = M.shape[0]\n",
    "    x = i - 1\n",
    "    while (x > -1):\n",
    "        Replacement(M, x, i, -M[x, j])\n",
    "        x = x - 1\n",
    "\n",
    "def check_zero_column(M, i ,j):\n",
    "    x = i + 1\n",
    "    while(x < M.shape[0]):\n",
    "        if (M[x, j] != 0):\n",
    "            return 0\n",
    "        x = x + 1\n",
    "    return 1\n",
    "\n",
    "def find_pivot(M, i, j):\n",
    "    if(check_zero_column(M, i, j) == 1):\n",
    "        return -1\n",
    "    x = i + 1\n",
    "    while(x < M.shape[0]):\n",
    "        if(M[x, j] != 0):\n",
    "            return x\n",
    "        x = x + 1"
   ]
  },
  {
   "cell_type": "code",
   "execution_count": 5,
   "metadata": {},
   "outputs": [],
   "source": [
    "def reduced_row_echelon_form(M):\n",
    "    a = M.astype(float)\n",
    "    x = 0\n",
    "    y = 0\n",
    "    x_pivots = []\n",
    "    y_pivots = []\n",
    "    while(x < a.shape[0] and y < a.shape[1]):\n",
    "        if(a[x, y] != 0):\n",
    "            zero_column_forward_phase(a, x, y)\n",
    "            x_pivots.append(x)\n",
    "            y_pivots.append(y)\n",
    "            x = x + 1\n",
    "            y = y + 1\n",
    "        else:\n",
    "            if(check_zero_column(a, x, y) == 1):\n",
    "                y = y + 1\n",
    "            else:\n",
    "                xx = x\n",
    "                Interchange(a, xx, find_pivot(a, x, y))\n",
    "\n",
    "    x_pivots.reverse()\n",
    "    y_pivots.reverse()\n",
    "    for i in range(len(x_pivots)):\n",
    "        zero_column_backward_phase(a, x_pivots[i], y_pivots[i])\n",
    "\n",
    "    return a, x_pivots, y_pivots"
   ]
  },
  {
   "cell_type": "code",
   "execution_count": 6,
   "metadata": {},
   "outputs": [],
   "source": [
    "def is_consistant(RREF_M):\n",
    "    for i in range(RREF_M.shape[0]):\n",
    "        n = 0\n",
    "        for j in range(RREF_M.shape[1] - 1):\n",
    "            if(RREF_M[i, j] == 0):\n",
    "                n = n + 1\n",
    "        if(RREF_M[i, RREF_M.shape[1] - 1] != 0):\n",
    "            n = n + 1\n",
    "        if(n == RREF_M.shape[1]):\n",
    "            return 0\n",
    "    return 1"
   ]
  },
  {
   "cell_type": "code",
   "execution_count": null,
   "metadata": {},
   "outputs": [
    {
     "name": "stdout",
     "output_type": "stream",
     "text": [
      "Coefficient matrix:\n",
      "Enter number of rows and columns respectively:\n"
     ]
    }
   ],
   "source": [
    "M = get_input()\n",
    "print(\"Given matrix:\")\n",
    "print(M)\n",
    "RREF_M, x, y = reduced_row_echelon_form(M)"
   ]
  },
  {
   "cell_type": "code",
   "execution_count": 12,
   "metadata": {},
   "outputs": [],
   "source": [
    "def find_free_variables(y_pivots, RREF_M):\n",
    "    n = RREF_M.shape[1]\n",
    "    free_variables = []\n",
    "    for i in range(n - 1):\n",
    "        if i not in y_pivots:\n",
    "            free_variables.append(i)\n",
    "    return free_variables\n",
    "\n",
    "free_variables = find_free_variables(y, RREF_M)"
   ]
  },
  {
   "cell_type": "code",
   "execution_count": 13,
   "metadata": {},
   "outputs": [],
   "source": [
    "def output(RREF_M, free_variables, i):\n",
    "    if(i in free_variables):\n",
    "        print(\"x\" + str(i +  1) + \" is free\")\n",
    "    else:\n",
    "        k = 0\n",
    "        for j in range(RREF_M.shape[0]):\n",
    "            if RREF_M[j, i] == 1:\n",
    "                k = j\n",
    "        s = str(RREF_M[k, RREF_M.shape[1] - 1])\n",
    "        x = i + 1\n",
    "        while(x < RREF_M.shape[1] - 1):\n",
    "            if(x in free_variables):\n",
    "                if(RREF_M[k, x] >= 0):\n",
    "                    s = s + str(0-RREF_M[k, x]) + \"*\" + str(x + 1)\n",
    "                else:\n",
    "                    s = s + \"+\" + str(0-RREF_M[k, x]) + \"*\" + str(x + 1)\n",
    "            x = x + 1\n",
    "        print(\"x\" + str(i + 1)+ \": \" + s)"
   ]
  },
  {
   "cell_type": "code",
   "execution_count": 14,
   "metadata": {},
   "outputs": [
    {
     "name": "stdout",
     "output_type": "stream",
     "text": [
      "x1: 5.0\n",
      "x2: 3.0\n",
      "x3: -2.0000000000000004\n"
     ]
    }
   ],
   "source": [
    "for z in range(RREF_M.shape[1] - 1):\n",
    "    output(RREF_M, free_variables, z)"
   ]
  },
  {
   "cell_type": "markdown",
   "metadata": {},
   "source": [
    "#### /\\ /V\\ [] [Z [Z (≡ ¯/_ /\\ [Z /\\ _] /\\ !3 []"
   ]
  },
  {
   "cell_type": "code",
   "execution_count": null,
   "metadata": {},
   "outputs": [],
   "source": []
  }
 ],
 "metadata": {
  "kernelspec": {
   "display_name": "Python 3",
   "language": "python",
   "name": "python3"
  },
  "language_info": {
   "codemirror_mode": {
    "name": "ipython",
    "version": 3
   },
   "file_extension": ".py",
   "mimetype": "text/x-python",
   "name": "python",
   "nbconvert_exporter": "python",
   "pygments_lexer": "ipython3",
   "version": "3.7.0"
  }
 },
 "nbformat": 4,
 "nbformat_minor": 2
}
