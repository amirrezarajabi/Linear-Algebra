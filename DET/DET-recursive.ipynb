{
 "cells": [
  {
   "cell_type": "code",
   "execution_count": 1,
   "metadata": {},
   "outputs": [
    {
     "data": {
      "text/plain": [
       "array([[5, 0, 3, 3],\n",
       "       [7, 9, 3, 5],\n",
       "       [2, 4, 7, 6],\n",
       "       [8, 8, 1, 6]])"
      ]
     },
     "execution_count": 1,
     "metadata": {},
     "output_type": "execute_result"
    }
   ],
   "source": [
    "import numpy as np\n",
    "np.random.seed(0)\n",
    "M = np.random.randint(10, size=(4, 4))\n",
    "M"
   ]
  },
  {
   "cell_type": "code",
   "execution_count": 2,
   "metadata": {},
   "outputs": [
    {
     "data": {
      "text/plain": [
       "array([[9., 3., 5.],\n",
       "       [4., 7., 6.],\n",
       "       [8., 1., 6.]])"
      ]
     },
     "execution_count": 2,
     "metadata": {},
     "output_type": "execute_result"
    }
   ],
   "source": [
    "def minor(M, i, j):\n",
    "    a = []\n",
    "    for ii in range(M.shape[0]):\n",
    "        b = []\n",
    "        for jj in range(M.shape[0]):\n",
    "            if(jj != j and ii != i):\n",
    "                b.append(M[ii, jj])\n",
    "        if (len(b) != 0):\n",
    "            a.append(b)\n",
    "    zeros = np.zeros((len(a), len(a)))\n",
    "    for ii in range(len(a)):\n",
    "        for jj in range(len(a)):\n",
    "            zeros[ii, jj] = a[ii][jj]\n",
    "    return zeros\n",
    "minor(M, 0, 0)"
   ]
  },
  {
   "cell_type": "code",
   "execution_count": 4,
   "metadata": {},
   "outputs": [
    {
     "data": {
      "text/plain": [
       "686.0"
      ]
     },
     "execution_count": 4,
     "metadata": {},
     "output_type": "execute_result"
    }
   ],
   "source": [
    "def det_recursive(x):\n",
    "    det = 0\n",
    "    if (x.shape[0] == 2):\n",
    "        return x[0, 0] * x[1, 1] - x[0, 1] * x[1, 0]\n",
    "    for i in range(x.shape[0]):\n",
    "        if i % 2 == 0:\n",
    "            det = det + x[0, i] * det_recursive(minor(x, 0, i))\n",
    "        if i % 2 == 1:\n",
    "            det = det - x[0, i] * det_recursive(minor(x, 0, i))\n",
    "    return det\n",
    "det_recursive(M)"
   ]
  },
  {
   "cell_type": "markdown",
   "metadata": {},
   "source": [
    "##### /\\ /V\\ [] [Z [Z (≡ ¯/_ /\\ [Z /\\ _] /\\ !3 []"
   ]
  }
 ],
 "metadata": {
  "kernelspec": {
   "display_name": "Python 3",
   "language": "python",
   "name": "python3"
  },
  "language_info": {
   "codemirror_mode": {
    "name": "ipython",
    "version": 3
   },
   "file_extension": ".py",
   "mimetype": "text/x-python",
   "name": "python",
   "nbconvert_exporter": "python",
   "pygments_lexer": "ipython3",
   "version": "3.7.0"
  }
 },
 "nbformat": 4,
 "nbformat_minor": 2
}
