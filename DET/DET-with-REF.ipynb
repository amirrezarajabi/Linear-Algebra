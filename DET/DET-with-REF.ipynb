{
 "cells": [
  {
   "cell_type": "code",
   "execution_count": 26,
   "metadata": {},
   "outputs": [
    {
     "data": {
      "text/plain": [
       "array([[5, 8, 9],\n",
       "       [5, 0, 0],\n",
       "       [1, 7, 6]])"
      ]
     },
     "execution_count": 26,
     "metadata": {},
     "output_type": "execute_result"
    }
   ],
   "source": [
    "import numpy as np\n",
    "\n",
    "np.random.seed(1)\n",
    "M = np.random.randint(10, size=(3, 3))\n",
    "det = 1\n",
    "M"
   ]
  },
  {
   "cell_type": "code",
   "execution_count": 27,
   "metadata": {},
   "outputs": [],
   "source": [
    "def Interchange(M, i, j, det):\n",
    "    m = M.shape[1]\n",
    "    for k in range(m):\n",
    "        tmp = M[i, k]\n",
    "        M[i, k] = M[j, k]\n",
    "        M[j, k] = tmp\n",
    "    det = det * -1\n",
    "    return det\n",
    "\n",
    "def Scaling(M , i, c, det):\n",
    "    m = M.shape[1]\n",
    "    for k in range(m):\n",
    "        M[i, k] = M[i, k] * c\n",
    "    det = det * c\n",
    "    return det\n",
    "\n",
    "def Replacement(M , i, j, c):\n",
    "    m = M.shape[1]\n",
    "    for k in range(m):\n",
    "        M[i, k] = M[i, k] + M[j, k] * c"
   ]
  },
  {
   "cell_type": "code",
   "execution_count": 28,
   "metadata": {},
   "outputs": [],
   "source": [
    "def zero_column_forward_phase (M , i, j, det):\n",
    "    value = M[i, j]\n",
    "    det = Scaling(M, i, 1/value, det)\n",
    "    n = M.shape[0]\n",
    "    x = i + 1\n",
    "    while (x < n):\n",
    "        Replacement(M, x, i, -M[x, j])\n",
    "        x = x + 1\n",
    "    return det\n",
    "\n",
    "def check_zero_column(M, i ,j):\n",
    "    x = i + 1\n",
    "    while(x < M.shape[0]):\n",
    "        if (M[x, j] != 0):\n",
    "            return 0\n",
    "        x = x + 1\n",
    "    return 1\n",
    "\n",
    "def find_pivot(M, i, j):\n",
    "    if(check_zero_column(M, i, j) == 1):\n",
    "        return -1\n",
    "    x = i + 1\n",
    "    while(x < M.shape[0]):\n",
    "        if(M[x, j] != 0):\n",
    "            return x\n",
    "        x = x + 1"
   ]
  },
  {
   "cell_type": "code",
   "execution_count": 29,
   "metadata": {},
   "outputs": [],
   "source": [
    "def det(M):\n",
    "    a = M.astype(float)\n",
    "    x = 0\n",
    "    y = 0\n",
    "    det = 1\n",
    "    while(x < a.shape[0] and y < a.shape[1]):\n",
    "        if(a[x, y] != 0):\n",
    "            det = zero_column_forward_phase(a, x, y, det)\n",
    "            x = x + 1\n",
    "            y = y + 1\n",
    "        else:\n",
    "            if(check_zero_column(a, x, y) == 1):\n",
    "                y = y + 1\n",
    "            else:\n",
    "                xx = x\n",
    "                det = Interchange(a, xx, find_pivot(a, x, y), det)\n",
    "    for i in range(M.shape[0]):\n",
    "        det = det * a[i, i]\n",
    "    return 1 / det"
   ]
  },
  {
   "cell_type": "code",
   "execution_count": 30,
   "metadata": {},
   "outputs": [
    {
     "data": {
      "text/plain": [
       "75.0"
      ]
     },
     "execution_count": 30,
     "metadata": {},
     "output_type": "execute_result"
    }
   ],
   "source": [
    "det(M)"
   ]
  },
  {
   "cell_type": "markdown",
   "metadata": {},
   "source": [
    "##### /\\ /V\\ [] [Z [Z (≡ ¯/_ /\\ [Z /\\ _] /\\ !3 []"
   ]
  }
 ],
 "metadata": {
  "kernelspec": {
   "display_name": "Python 3",
   "language": "python",
   "name": "python3"
  },
  "language_info": {
   "codemirror_mode": {
    "name": "ipython",
    "version": 3
   },
   "file_extension": ".py",
   "mimetype": "text/x-python",
   "name": "python",
   "nbconvert_exporter": "python",
   "pygments_lexer": "ipython3",
   "version": "3.7.0"
  }
 },
 "nbformat": 4,
 "nbformat_minor": 2
}
